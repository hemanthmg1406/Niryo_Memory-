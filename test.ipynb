{
 "cells": [
  {
   "cell_type": "code",
   "execution_count": 5,
   "id": "6c3ae67f",
   "metadata": {},
   "outputs": [],
   "source": [
    "import cv2\n",
    "import os\n",
    "import time\n",
    "from memory_queues import square_queue, gui_queue\n",
    "from memory_logic import register_card\n",
    "from sift_utils import extract_sift_signature, auto_crop_inside_white_edges, draw_oriented_bounding_box\n",
    "from recorded_positions import pick_positions, drop_positions, home_pose, scan_pose\n",
    "from pyniryo2 import NiryoRos, NiryoRobot, Vision\n",
    "import pyniryo\n",
    "from matplotlib import pyplot as plt\n",
    "import numpy as np"
   ]
  },
  {
   "cell_type": "code",
   "execution_count": 7,
   "id": "9fac0353",
   "metadata": {},
   "outputs": [],
   "source": [
    "robot_ip_address = \"169.254.200.200\"\n",
    "robot = NiryoRobot(robot_ip_address)\n",
    "robot.arm.calibrate_auto()\n",
    "# robot.activate_vacuum()\n",
    "robot.tool.release_with_tool()\n",
    "robot.arm.move_pose(home_pose)\n"
   ]
  },
  {
   "cell_type": "code",
   "execution_count": null,
   "id": "456d4a0c",
   "metadata": {},
   "outputs": [],
   "source": [
    "pose_read = robot.arm.get_pose()\n",
    "print(f'{round(pose_read.x,2), round(pose_read.y,2), round(pose_read.z,2), round(pose_read.roll,2), round(pose_read.pitch,2), round(pose_read.yaw)} ')"
   ]
  },
  {
   "cell_type": "code",
   "execution_count": null,
   "id": "96ce815f",
   "metadata": {},
   "outputs": [],
   "source": [
    "#L1\n",
    "robot.arm.move_pose([0.45, 0.01, 0.2, -0.54, -0.98, 0.5])"
   ]
  },
  {
   "cell_type": "code",
   "execution_count": null,
   "id": "56551f5d",
   "metadata": {},
   "outputs": [],
   "source": [
    "#home pose \n",
    "robot.arm.move_pose([0.33, 0.01, 0.19, 0.25, 1.45, 0.314])"
   ]
  },
  {
   "cell_type": "code",
   "execution_count": null,
   "id": "740c92ed",
   "metadata": {},
   "outputs": [],
   "source": [
    "#scan pose\n",
    "robot.arm.move_pose([0.44, 0.04, 0.25, 1.59, 0.05, 1.2969586785279166])"
   ]
  },
  {
   "cell_type": "code",
   "execution_count": null,
   "id": "89781da5",
   "metadata": {},
   "outputs": [],
   "source": [
    "robot.arm.move_pose([0.38, 0.15, 0.05, 0.87, 1.51, 0.9])"
   ]
  },
  {
   "cell_type": "code",
   "execution_count": null,
   "id": "9dc767a1",
   "metadata": {},
   "outputs": [],
   "source": [
    "robot.tool.grasp_with_tool()"
   ]
  },
  {
   "cell_type": "code",
   "execution_count": null,
   "id": "3243ac06",
   "metadata": {},
   "outputs": [],
   "source": [
    "robot.tool.release_with_tool()\n"
   ]
  },
  {
   "cell_type": "code",
   "execution_count": null,
   "id": "80f8c6c2",
   "metadata": {},
   "outputs": [],
   "source": [
    "robot.tool.release_with_tool()\n",
    "robot.tool.grasp_with_tool()\n",
    "robot.arm.move_pose([-0.02, -0.46, 0.18, -0.13, -1.15, -1.504])\n"
   ]
  },
  {
   "cell_type": "code",
   "execution_count": null,
   "id": "f3d016e1",
   "metadata": {},
   "outputs": [],
   "source": [
    "from pyniryo2 import NiryoRobot\n",
    "import time\n",
    "\n",
    "# Define home position\n",
    "home_pose = [0.26, -0.01, 0.22, 2.22, 1.48, 2]\n",
    "\n",
    "# All drop positions from A1 to D5\n",
    "drop_positions = {\n",
    "    \"A1\": [0.39, 0.13, 0.07, 2.05, 1.47, 2.29],\n",
    "    \"A2\": [0.39, 0.07, 0.07, 2.63, 1.43, 2.74],\n",
    "    \"A3\": [0.39, 0.02, 0.07, 2.88, 1.44, 2.9],\n",
    "    \"A4\": [0.38, -0.03, 0.07, -3.05, 1.47, -3.13],\n",
    "    \"A5\": [0.38, -0.08, 0.07, -2.49, 1.47, -2.65],\n",
    "    \"B1\": [0.33, 0.13, 0.07, 2.23, 1.44, 2.42],\n",
    "    \"B2\": [0.32, 0.08, 0.07, 2.46, 1.47, 2.59],\n",
    "    \"B3\": [0.32, 0.03, 0.05, 3.1, 1.46, -3.1],\n",
    "    \"B4\": [0.32, -0.02, 0.07, -2.82, 1.44, -2.81],\n",
    "    \"B5\": [0.31, -0.08, 0.05, -2.52, 1.43, -2.6],\n",
    "    \"C1\": [0.27, 0.13, 0.05, 1.99, 1.48, 2.22],\n",
    "    \"C2\": [0.27, 0.08, 0.05, 2.71, 1.47, 2.89],\n",
    "    \"C3\": [0.26, 0.03, 0.05, 3.1, 1.48, -3.07],\n",
    "    \"C4\": [0.26, -0.02, 0.05, -2.9, 1.46, -2.86],\n",
    "    \"C5\": [0.25, -0.07, 0.05, -2.58, 1.44, -2.59],\n",
    "    \"D1\": [0.21, 0.13, 0.05, 1.94, 1.47, 2.05],\n",
    "    \"D2\": [0.21, 0.08, 0.05, 2.6, 1.47, 2.65],\n",
    "    \"D3\": [0.21, 0.04, 0.05, 3.02, 1.45, 3.07],\n",
    "    \"D4\": [0.2, -0.01, 0.05, -3.1, 1.41, -3],\n",
    "    \"D5\": [0.19, -0.07, 0.05, -3.12, 1.42, 3],\n",
    "}\n",
    "\n",
    "# Connect to Niryo robot\n",
    "robot = NiryoRobot(\"10.10.10.10\")  # Update IP if needed\n",
    "\n",
    "# Initial setup\n",
    "robot.arm.calibrate_auto()\n",
    "robot.tool.update_tool()\n",
    "robot.tool.release_with_tool()\n",
    "\n",
    "# Loop over all positions\n",
    "for label in sorted(drop_positions.keys()):\n",
    "    print(f\"\\n[PROCESS] Moving to drop: {label}\")\n",
    "    \n",
    "    # Move to home\n",
    "    robot.arm.move_pose(home_pose)\n",
    "    \n",
    "    # Activate suction to simulate pick-up\n",
    "    robot.tool.grasp_with_tool()\n",
    "    time.sleep(1.2)\n",
    "\n",
    "    # Move to drop position\n",
    "    robot.arm.move_pose(drop_positions[label])\n",
    "    \n",
    "    # Release suction to drop card\n",
    "    robot.tool.release_with_tool()\n",
    "    time.sleep(0.8)\n",
    "\n",
    "    # Return to home\n",
    "    robot.arm.move_pose(home_pose)\n",
    "\n",
    "# Disconnect safely\n",
    "robot.close_connection()\n"
   ]
  },
  {
   "cell_type": "code",
   "execution_count": null,
   "id": "7eb16957",
   "metadata": {},
   "outputs": [
    {
     "name": "stdout",
     "output_type": "stream",
     "text": [
      "[SCAN] Looking for card at \n"
     ]
    },
    {
     "ename": "TypeError",
     "evalue": "a bytes-like object is required, not 'NoneType'",
     "output_type": "error",
     "traceback": [
      "\u001b[31m---------------------------------------------------------------------------\u001b[39m",
      "\u001b[31mTypeError\u001b[39m                                 Traceback (most recent call last)",
      "\u001b[36mCell\u001b[39m\u001b[36m \u001b[39m\u001b[32mIn[9]\u001b[39m\u001b[32m, line 12\u001b[39m\n\u001b[32m      9\u001b[39m \u001b[38;5;28;01mwhile\u001b[39;00m \u001b[38;5;28;01mTrue\u001b[39;00m:\n\u001b[32m     11\u001b[39m     img_compressed = vision.get_img_compressed()\n\u001b[32m---> \u001b[39m\u001b[32m12\u001b[39m     img_uncompressed = \u001b[43mpyniryo\u001b[49m\u001b[43m.\u001b[49m\u001b[43muncompress_image\u001b[49m\u001b[43m(\u001b[49m\u001b[43mimg_compressed\u001b[49m\u001b[43m)\u001b[49m\n\u001b[32m     13\u001b[39m     camera_info = vision.get_camera_intrinsics()\n\u001b[32m     14\u001b[39m     img = pyniryo.undistort_image(img_uncompressed, camera_info.intrinsics, camera_info.distortion)\n",
      "\u001b[36mFile \u001b[39m\u001b[32m/Library/Frameworks/Python.framework/Versions/3.13/lib/python3.13/site-packages/pyniryo/vision/image_functions.py:387\u001b[39m, in \u001b[36muncompress_image\u001b[39m\u001b[34m(compressed_image)\u001b[39m\n\u001b[32m    378\u001b[39m \u001b[38;5;28;01mdef\u001b[39;00m\u001b[38;5;250m \u001b[39m\u001b[34muncompress_image\u001b[39m(compressed_image):\n\u001b[32m    379\u001b[39m \u001b[38;5;250m    \u001b[39m\u001b[33;03m\"\"\"\u001b[39;00m\n\u001b[32m    380\u001b[39m \u001b[33;03m    Take a compressed img and return an OpenCV image\u001b[39;00m\n\u001b[32m    381\u001b[39m \n\u001b[32m   (...)\u001b[39m\u001b[32m    385\u001b[39m \u001b[33;03m    :rtype: numpy.array\u001b[39;00m\n\u001b[32m    386\u001b[39m \u001b[33;03m    \"\"\"\u001b[39;00m\n\u001b[32m--> \u001b[39m\u001b[32m387\u001b[39m     np_arr = \u001b[43mnp\u001b[49m\u001b[43m.\u001b[49m\u001b[43mfromstring\u001b[49m\u001b[43m(\u001b[49m\u001b[43mcompressed_image\u001b[49m\u001b[43m,\u001b[49m\u001b[43m \u001b[49m\u001b[43mnp\u001b[49m\u001b[43m.\u001b[49m\u001b[43muint8\u001b[49m\u001b[43m)\u001b[49m\n\u001b[32m    388\u001b[39m     \u001b[38;5;28;01mreturn\u001b[39;00m cv2.imdecode(np_arr, cv2.IMREAD_COLOR)\n",
      "\u001b[31mTypeError\u001b[39m: a bytes-like object is required, not 'NoneType'"
     ]
    }
   ],
   "source": [
    "\n",
    "import cv2\n",
    "CARD_BOX = (270,140,190,190)  #x,y,h,w\n",
    "\n",
    "ros_instance = NiryoRos(\"169.254.200.200\")\n",
    "vision = Vision(ros_instance)\n",
    "\n",
    "print(f\"[SCAN] Looking for card at \")\n",
    "last_center = stable_since = detection_time = None\n",
    "while True:\n",
    "    img_compressed = vision.get_img_compressed()\n",
    "    img_uncompressed = pyniryo.uncompress_image(img_compressed)\n",
    "    camera_info = vision.get_camera_intrinsics()\n",
    "    img = pyniryo.undistort_image(img_uncompressed, camera_info.intrinsics, camera_info.distortion)\n",
    "\n",
    "    frame = cv2.resize(img, (640, 480))\n",
    "    cv2.rectangle(frame, (CARD_BOX[0], CARD_BOX[1]), (CARD_BOX[0]+CARD_BOX[2], CARD_BOX[1]+CARD_BOX[3]), (0, 255, 0), 2)\n",
    "    cv2.imshow(\"Adjust ROI\", frame)\n",
    "\n",
    "    key = cv2.waitKey(1)\n",
    "    if key == ord('q'): break\n",
    "\n",
    "\n",
    "cv2.destroyAllWindows()"
   ]
  }
 ],
 "metadata": {
  "kernelspec": {
   "display_name": "Python 3",
   "language": "python",
   "name": "python3"
  },
  "language_info": {
   "codemirror_mode": {
    "name": "ipython",
    "version": 3
   },
   "file_extension": ".py",
   "mimetype": "text/x-python",
   "name": "python",
   "nbconvert_exporter": "python",
   "pygments_lexer": "ipython3",
   "version": "3.13.2"
  }
 },
 "nbformat": 4,
 "nbformat_minor": 5
}
