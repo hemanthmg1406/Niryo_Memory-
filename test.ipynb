{
 "cells": [
  {
   "cell_type": "code",
   "execution_count": 1,
   "id": "6c3ae67f",
   "metadata": {},
   "outputs": [
    {
     "name": "stderr",
     "output_type": "stream",
     "text": [
      "/Library/Frameworks/Python.framework/Versions/3.13/lib/python3.13/site-packages/pygame/pkgdata.py:25: UserWarning: pkg_resources is deprecated as an API. See https://setuptools.pypa.io/en/latest/pkg_resources.html. The pkg_resources package is slated for removal as early as 2025-11-30. Refrain from using this package or pin to Setuptools<81.\n",
      "  from pkg_resources import resource_stream, resource_exists\n"
     ]
    },
    {
     "name": "stdout",
     "output_type": "stream",
     "text": [
      "pygame 2.6.1 (SDL 2.28.4, Python 3.13.2)\n",
      "Hello from the pygame community. https://www.pygame.org/contribute.html\n"
     ]
    }
   ],
   "source": [
    "import cv2\n",
    "import os\n",
    "import time\n",
    "from memory_queues import square_queue, gui_queue\n",
    "from memory_logic import register_card\n",
    "from sift_utils import extract_sift_signature, auto_crop_inside_white_edges, draw_oriented_bounding_box\n",
    "from recorded_positions import pick_positions, drop_positions, home_pose, scan_pose\n",
    "from pyniryo2 import NiryoRos, NiryoRobot, Vision\n",
    "import pyniryo\n",
    "from matplotlib import pyplot as plt\n",
    "import numpy as np"
   ]
  },
  {
   "cell_type": "code",
   "execution_count": 2,
   "id": "9fac0353",
   "metadata": {},
   "outputs": [],
   "source": [
    "robot_ip_address = \"169.254.200.200\"\n",
    "robot = NiryoRobot(robot_ip_address)\n",
    "robot.arm.calibrate_auto()\n",
    "# robot.activate_vacuum()\n",
    "robot.tool.release_with_tool()\n",
    "robot.arm.move_pose(home_pose)\n"
   ]
  },
  {
   "cell_type": "code",
   "execution_count": 4,
   "id": "9c346210",
   "metadata": {},
   "outputs": [],
   "source": [
    "robot.arm.get_arm_max_velocity()\n",
    "robot.arm.move_pose([0.26, 0.03, 0.17, 1.55, 0.2, 1.497])\n",
    "\n"
   ]
  },
  {
   "cell_type": "code",
   "execution_count": null,
   "id": "456d4a0c",
   "metadata": {},
   "outputs": [],
   "source": [
    "pose_read = robot.arm.get_pose()\n",
    "print(f'{round(pose_read.x,2), round(pose_read.y,2), round(pose_read.z,2), round(pose_read.roll,2), round(pose_read.pitch,2), round(pose_read.yaw,4)} ')"
   ]
  },
  {
   "cell_type": "code",
   "execution_count": null,
   "id": "baaa188a",
   "metadata": {},
   "outputs": [],
   "source": [
    "pose_read = robot.arm.get_pose()\n",
    "print(f'{round(pose_read.x,2), round(pose_read.y,2), round(pose_read.z,2), round(pose_read.roll,2), round(pose_read.pitch,2), round(pose_read.yaw,4)} ')"
   ]
  },
  {
   "cell_type": "code",
   "execution_count": null,
   "id": "96ce815f",
   "metadata": {},
   "outputs": [],
   "source": [
    "#L1\n",
    "robot.arm.move_pose([0.26, 0.03, 0.17, 1.55, 0.2, 1.497])\n",
    "#robot.tool.grasp_with_tool()"
   ]
  },
  {
   "cell_type": "code",
   "execution_count": null,
   "id": "524c0c9b",
   "metadata": {},
   "outputs": [],
   "source": [
    "#HOME\n",
    "robot.arm.move_pose([0.26, 0.03, 0.17, 1.55, 0.2, 1.497])\n"
   ]
  },
  {
   "cell_type": "code",
   "execution_count": 23,
   "id": "9a2c84e2",
   "metadata": {},
   "outputs": [],
   "source": [
    "robot.arm.move_pose([0.22, -0.0, 0.21, -2.96, 1.54, -2.9783]) #home\n",
    "robot.arm.move_pose([0.15, 0.14, 0.056, 3.0, 1.48, 3.0651]) #A1 drop pose\n",
    "robot.arm.move_pose([0.15, 0.14, 0.05, 3.0, 1.48, 3.0651]) #A1 pick pose\n",
    "robot.tool.grasp_with_tool()\n",
    "robot.arm.move_pose([0.15, 0.14, 0.056, 3.0, 1.48, 3.0651]) #A1 drop pose\n",
    "robot.arm.move_pose([0.228, -0.22, 0.07, 2.67, 1.47, 2.8617]) #L1 stack\n",
    "robot.tool.release_with_tool()\n"
   ]
  },
  {
   "cell_type": "code",
   "execution_count": 21,
   "id": "898b1f2b",
   "metadata": {},
   "outputs": [],
   "source": [
    "robot.arm.move_pose([0.22, -0.0, 0.21, -2.96, 1.54, -2.9783]) #home\n",
    "robot.arm.move_pose([0.147, 0.074, 0.07, -2.95, 1.52, -2.5403]) #A1 drop pose\n",
    "robot.arm.move_pose([0.147, 0.074, 0.055, -2.95, 1.52, -2.5403]) #A1 pick pose\n",
    "robot.tool.grasp_with_tool()\n",
    "robot.arm.move_pose([0.147, 0.074, 0.07, -2.95, 1.52, -2.5403]) #A1 drop pose\n",
    "robot.arm.move_pose([0.228, -0.22, 0.07, -2.95, 1.47, 2.8617]) #L1 stack\n",
    "robot.tool.release_with_tool()\n"
   ]
  },
  {
   "cell_type": "code",
   "execution_count": 15,
   "id": "1f8c7eda",
   "metadata": {},
   "outputs": [],
   "source": [
    "robot.arm.move_pose([0.228, -0.22, 0.07, 2.69, 1.47, 2.8617]) #L1 stack\n"
   ]
  },
  {
   "cell_type": "code",
   "execution_count": null,
   "id": "740c92ed",
   "metadata": {},
   "outputs": [],
   "source": [
    "#scan pose\n",
    "robot.arm.move_pose([0.22, -0.0, 0.21, -2.96, 1.54, -2.9783]) #home\n",
    "robot.arm.move_pose([0.37, 0.15, 0.05, 2.50, 1.55, 2.4585])\n",
    "robot.tool.grasp_with_tool()\n",
    "robot.arm.move_pose([0.37, 0.15, 0.065, 2.50, 1.55, 2.4585])\n",
    "robot.arm.move_pose([0.26, 0.03, 0.17, 1.55, 0.2, 1.497])#scan\n",
    "robot.wait(5)\n",
    "robot.arm.move_pose([0.22, -0.0, 0.21, -2.96, 1.54, -2.9783])#home\n",
    "robot.arm.move_pose([0.37, 0.15, 0.05, 2.50, 1.55, 2.4585])\n",
    "robot.tool.release_with_tool()\n",
    "robot.arm.move_pose([0.22, -0.0, 0.21, -2.96, 1.54, -2.9783])#home\n",
    "\n",
    "\n",
    "\n",
    "\n",
    "\n"
   ]
  },
  {
   "cell_type": "code",
   "execution_count": null,
   "id": "5ead72ff",
   "metadata": {},
   "outputs": [],
   "source": [
    "robot.arm.move_pose([0.22, -0.0, 0.21, -2.96, 1.54, -2.9783]) #home\n",
    "robot.arm.move_pose([0.37, 0.15, 0.05, 2.50, 1.55, 2.4585]) #A1 pick pose\n",
    "robot.tool.grasp_with_tool()\n",
    "robot.arm.move_pose([0.37, 0.15, 0.065, 2.50, 1.55, 2.4585]) #A1 drop pose\n",
    "robot.arm.move_pose([0.3, 0.225, 0.06, -2.65, 1.52, -2.6712]) #L1 stack\n",
    "robot.tool.release_with_tool()\n"
   ]
  },
  {
   "cell_type": "code",
   "execution_count": null,
   "id": "4610de75",
   "metadata": {},
   "outputs": [],
   "source": [
    "pose_read = robot.arm.get_pose()\n",
    "print(f'{round(pose_read.x,2), round(pose_read.y,2), round(pose_read.z,2), round(pose_read.roll,2), round(pose_read.pitch,2), round(pose_read.yaw,4)} ')"
   ]
  },
  {
   "cell_type": "code",
   "execution_count": 28,
   "id": "87360d5f",
   "metadata": {},
   "outputs": [],
   "source": [
    "robot.arm.move_pose([0.26, 0.03, 0.15, 1.55, 0.2, 1.497])\n"
   ]
  },
  {
   "cell_type": "code",
   "execution_count": 26,
   "id": "9dc767a1",
   "metadata": {},
   "outputs": [],
   "source": [
    "robot.tool.grasp_with_tool()"
   ]
  },
  {
   "cell_type": "code",
   "execution_count": null,
   "id": "3243ac06",
   "metadata": {},
   "outputs": [
    {
     "ename": "",
     "evalue": "",
     "output_type": "error",
     "traceback": [
      "\u001b[1;31mThe Kernel crashed while executing code in the current cell or a previous cell. \n",
      "\u001b[1;31mPlease review the code in the cell(s) to identify a possible cause of the failure. \n",
      "\u001b[1;31mClick <a href='https://aka.ms/vscodeJupyterKernelCrash'>here</a> for more info. \n",
      "\u001b[1;31mView Jupyter <a href='command:jupyter.viewOutput'>log</a> for further details."
     ]
    }
   ],
   "source": [
    "robot.tool.release_with_tool()\n"
   ]
  },
  {
   "cell_type": "code",
   "execution_count": null,
   "id": "80f8c6c2",
   "metadata": {},
   "outputs": [],
   "source": [
    "robot.tool.release_with_tool()\n",
    "robot.arm.move_pose([0.22, 0.22, 0.07, -2.28, 1.48, -2.1716])\n",
    "robot.tool.grasp_with_tool()\n",
    "robot.arm.move_pose([0.3, 0.15, 0.065, -2.85, 1.46, -2.8733])\n",
    "robot.tool.release_with_tool()\n",
    "robot.arm.move_pose([0.3, 0.15, 0.05, -2.85, 1.46, -2.8733])\n",
    "robot.tool.grasp_with_tool()\n",
    "robot.arm.move_pose([0.3, 0.15, 0.065, -2.85, 1.46, -2.8733])\n",
    "robot.arm.move_pose([0.22, 0.22, 0.07, -2.28, 1.48, -2.1716])\n",
    "robot.tool.release_with_tool()\n",
    "\n",
    "\n"
   ]
  },
  {
   "cell_type": "code",
   "execution_count": null,
   "id": "cdbd1d73",
   "metadata": {},
   "outputs": [],
   "source": [
    "\n",
    "robot.arm.move_pose([0.228, -0.22, 0.07, 2.97, 1.47, 2.8617])\n"
   ]
  },
  {
   "cell_type": "code",
   "execution_count": 33,
   "id": "7eb16957",
   "metadata": {},
   "outputs": [
    {
     "name": "stdout",
     "output_type": "stream",
     "text": [
      "[SCAN] Looking for card at \n"
     ]
    },
    {
     "ename": "KeyboardInterrupt",
     "evalue": "",
     "output_type": "error",
     "traceback": [
      "\u001b[31m---------------------------------------------------------------------------\u001b[39m",
      "\u001b[31mKeyboardInterrupt\u001b[39m                         Traceback (most recent call last)",
      "\u001b[36mCell\u001b[39m\u001b[36m \u001b[39m\u001b[32mIn[33]\u001b[39m\u001b[32m, line 28\u001b[39m\n\u001b[32m     25\u001b[39m     \u001b[38;5;28mprint\u001b[39m(\u001b[33m\"\u001b[39m\u001b[33m[ERROR] Failed to uncompress image.\u001b[39m\u001b[33m\"\u001b[39m)\n\u001b[32m     26\u001b[39m     \u001b[38;5;28;01mcontinue\u001b[39;00m\n\u001b[32m---> \u001b[39m\u001b[32m28\u001b[39m camera_info = \u001b[43mvision\u001b[49m\u001b[43m.\u001b[49m\u001b[43mget_camera_intrinsics\u001b[49m\u001b[43m(\u001b[49m\u001b[43m)\u001b[49m\n\u001b[32m     29\u001b[39m img = pyniryo.undistort_image(img_uncompressed, camera_info.intrinsics, camera_info.distortion)\n\u001b[32m     31\u001b[39m frame = cv2.resize(img, (\u001b[32m640\u001b[39m, \u001b[32m480\u001b[39m))\n",
      "\u001b[36mFile \u001b[39m\u001b[32m/Library/Frameworks/Python.framework/Versions/3.13/lib/python3.13/site-packages/pyniryo2/niryo_topic.py:52\u001b[39m, in \u001b[36mNiryoTopic.__call__\u001b[39m\u001b[34m(self)\u001b[39m\n\u001b[32m     50\u001b[39m \u001b[38;5;28mself\u001b[39m.__sync_event.clear()\n\u001b[32m     51\u001b[39m \u001b[38;5;28mself\u001b[39m.__topic.subscribe(\u001b[38;5;28mself\u001b[39m.__internal_callback)\n\u001b[32m---> \u001b[39m\u001b[32m52\u001b[39m \u001b[38;5;28;43mself\u001b[39;49m\u001b[43m.\u001b[49m\u001b[43m__sync_event\u001b[49m\u001b[43m.\u001b[49m\u001b[43mwait\u001b[49m\u001b[43m(\u001b[49m\u001b[43mtimeout\u001b[49m\u001b[43m=\u001b[49m\u001b[38;5;28;43mself\u001b[39;49m\u001b[43m.\u001b[49m\u001b[43m__timeout\u001b[49m\u001b[43m)\u001b[49m\n\u001b[32m     53\u001b[39m \u001b[38;5;28mself\u001b[39m.__topic.unsubscribe()\n\u001b[32m     54\u001b[39m \u001b[38;5;28;01mreturn\u001b[39;00m \u001b[38;5;28mself\u001b[39m.__sync_topic_value\n",
      "\u001b[36mFile \u001b[39m\u001b[32m/Library/Frameworks/Python.framework/Versions/3.13/lib/python3.13/threading.py:659\u001b[39m, in \u001b[36mEvent.wait\u001b[39m\u001b[34m(self, timeout)\u001b[39m\n\u001b[32m    657\u001b[39m signaled = \u001b[38;5;28mself\u001b[39m._flag\n\u001b[32m    658\u001b[39m \u001b[38;5;28;01mif\u001b[39;00m \u001b[38;5;129;01mnot\u001b[39;00m signaled:\n\u001b[32m--> \u001b[39m\u001b[32m659\u001b[39m     signaled = \u001b[38;5;28;43mself\u001b[39;49m\u001b[43m.\u001b[49m\u001b[43m_cond\u001b[49m\u001b[43m.\u001b[49m\u001b[43mwait\u001b[49m\u001b[43m(\u001b[49m\u001b[43mtimeout\u001b[49m\u001b[43m)\u001b[49m\n\u001b[32m    660\u001b[39m \u001b[38;5;28;01mreturn\u001b[39;00m signaled\n",
      "\u001b[36mFile \u001b[39m\u001b[32m/Library/Frameworks/Python.framework/Versions/3.13/lib/python3.13/threading.py:363\u001b[39m, in \u001b[36mCondition.wait\u001b[39m\u001b[34m(self, timeout)\u001b[39m\n\u001b[32m    361\u001b[39m \u001b[38;5;28;01melse\u001b[39;00m:\n\u001b[32m    362\u001b[39m     \u001b[38;5;28;01mif\u001b[39;00m timeout > \u001b[32m0\u001b[39m:\n\u001b[32m--> \u001b[39m\u001b[32m363\u001b[39m         gotit = \u001b[43mwaiter\u001b[49m\u001b[43m.\u001b[49m\u001b[43macquire\u001b[49m\u001b[43m(\u001b[49m\u001b[38;5;28;43;01mTrue\u001b[39;49;00m\u001b[43m,\u001b[49m\u001b[43m \u001b[49m\u001b[43mtimeout\u001b[49m\u001b[43m)\u001b[49m\n\u001b[32m    364\u001b[39m     \u001b[38;5;28;01melse\u001b[39;00m:\n\u001b[32m    365\u001b[39m         gotit = waiter.acquire(\u001b[38;5;28;01mFalse\u001b[39;00m)\n",
      "\u001b[31mKeyboardInterrupt\u001b[39m: "
     ]
    }
   ],
   "source": [
    "import cv2\n",
    "import pyniryo\n",
    "from pyniryo2 import NiryoRos, Vision\n",
    "import numpy as np\n",
    "\n",
    "CARD_BOX = (270, 190, 190, 190)  # x,y,h,w\n",
    "\n",
    "ros_instance = NiryoRos(\"169.254.200.200\")\n",
    "vision = Vision(ros_instance)\n",
    "\n",
    "print(\"[SCAN] Looking for card at \")\n",
    "last_center = stable_since = detection_time = None\n",
    "while True:\n",
    "    img_compressed = vision.get_img_compressed()\n",
    "    \n",
    "    # Check if the image was successfully captured\n",
    "    if img_compressed is None:\n",
    "        print(\"[ERROR] Could not get compressed image from the robot.\")\n",
    "        continue  # Skip the rest of the loop and try again\n",
    "\n",
    "    img_uncompressed = pyniryo.uncompress_image(img_compressed)\n",
    "    \n",
    "    # Add a check for the uncompressed image as well\n",
    "    if img_uncompressed is None:\n",
    "        print(\"[ERROR] Failed to uncompress image.\")\n",
    "        continue\n",
    "\n",
    "    camera_info = vision.get_camera_intrinsics()\n",
    "    img = pyniryo.undistort_image(img_uncompressed, camera_info.intrinsics, camera_info.distortion)\n",
    "\n",
    "    frame = cv2.resize(img, (640, 480))\n",
    "    cv2.rectangle(frame, (CARD_BOX[0], CARD_BOX[1]), (CARD_BOX[0] + CARD_BOX[2], CARD_BOX[1] + CARD_BOX[3]), (0, 255, 0), 2)\n",
    "    cv2.imshow(\"Adjust ROI\", frame)\n",
    "\n",
    "    key = cv2.waitKey(1)\n",
    "    if key == ord('q'):\n",
    "        break\n",
    "\n",
    "cv2.destroyAllWindows()"
   ]
  }
 ],
 "metadata": {
  "kernelspec": {
   "display_name": "Python 3",
   "language": "python",
   "name": "python3"
  },
  "language_info": {
   "codemirror_mode": {
    "name": "ipython",
    "version": 3
   },
   "file_extension": ".py",
   "mimetype": "text/x-python",
   "name": "python",
   "nbconvert_exporter": "python",
   "pygments_lexer": "ipython3",
   "version": "3.13.2"
  }
 },
 "nbformat": 4,
 "nbformat_minor": 5
}
