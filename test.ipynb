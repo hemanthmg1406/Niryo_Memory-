{
 "cells": [
  {
   "cell_type": "code",
   "execution_count": 1,
   "id": "6c3ae67f",
   "metadata": {},
   "outputs": [
    {
     "name": "stderr",
     "output_type": "stream",
     "text": [
      "/Library/Frameworks/Python.framework/Versions/3.13/lib/python3.13/site-packages/pygame/pkgdata.py:25: UserWarning: pkg_resources is deprecated as an API. See https://setuptools.pypa.io/en/latest/pkg_resources.html. The pkg_resources package is slated for removal as early as 2025-11-30. Refrain from using this package or pin to Setuptools<81.\n",
      "  from pkg_resources import resource_stream, resource_exists\n"
     ]
    },
    {
     "name": "stdout",
     "output_type": "stream",
     "text": [
      "pygame 2.6.1 (SDL 2.28.4, Python 3.13.2)\n",
      "Hello from the pygame community. https://www.pygame.org/contribute.html\n"
     ]
    }
   ],
   "source": [
    "import cv2\n",
    "import os\n",
    "import time\n",
    "from memory_queues import square_queue, gui_queue\n",
    "from memory_logic import register_card\n",
    "from sift_utils import extract_sift_signature, auto_crop_inside_white_edges, draw_oriented_bounding_box\n",
    "from recorded_positions import pick_positions, drop_positions, home_pose, scan_pose\n",
    "from pyniryo2 import NiryoRos, NiryoRobot, Vision\n",
    "import pyniryo\n",
    "from matplotlib import pyplot as plt\n",
    "import numpy as np"
   ]
  },
  {
   "cell_type": "code",
   "execution_count": 2,
   "id": "9fac0353",
   "metadata": {},
   "outputs": [],
   "source": [
    "robot_ip_address = \"169.254.200.200\"\n",
    "robot = NiryoRobot(robot_ip_address)\n",
    "robot.arm.calibrate_auto()\n",
    "# robot.activate_vacuum()\n",
    "robot.tool.release_with_tool()\n",
    "robot.arm.move_pose(home_pose)\n"
   ]
  },
  {
   "cell_type": "code",
   "execution_count": null,
   "id": "456d4a0c",
   "metadata": {},
   "outputs": [],
   "source": [
    "pose_read = robot.arm.get_pose()\n",
    "print(f'{round(pose_read.x,2), round(pose_read.y,2), round(pose_read.z,2), round(pose_read.roll,2), round(pose_read.pitch,2), round(pose_read.yaw,4)} ')"
   ]
  },
  {
   "cell_type": "code",
   "execution_count": 7,
   "id": "baaa188a",
   "metadata": {},
   "outputs": [
    {
     "name": "stdout",
     "output_type": "stream",
     "text": [
      "(0.26, 0.03, 0.17, 1.55, 0.2, 1.497) \n"
     ]
    }
   ],
   "source": [
    "pose_read = robot.arm.get_pose()\n",
    "print(f'{round(pose_read.x,2), round(pose_read.y,2), round(pose_read.z,2), round(pose_read.roll,2), round(pose_read.pitch,2), round(pose_read.yaw,4)} ')"
   ]
  },
  {
   "cell_type": "code",
   "execution_count": 9,
   "id": "96ce815f",
   "metadata": {},
   "outputs": [],
   "source": [
    "#L1\n",
    "robot.arm.move_pose([0.26, 0.03, 0.17, 1.55, 0.2, 1.497])\n",
    "#robot.tool.grasp_with_tool()"
   ]
  },
  {
   "cell_type": "code",
   "execution_count": 8,
   "id": "524c0c9b",
   "metadata": {},
   "outputs": [],
   "source": [
    "#HOME\n",
    "robot.arm.move_pose([0.22, -0.0, 0.21, -2.96, 1.54, -2.9783])\n"
   ]
  },
  {
   "cell_type": "code",
   "execution_count": 9,
   "id": "740c92ed",
   "metadata": {},
   "outputs": [],
   "source": [
    "#scan pose\n",
    "robot.arm.move_pose([0.22, -0.0, 0.21, -2.96, 1.54, -2.9783]) #home\n",
    "robot.arm.move_pose([0.37, 0.15, 0.05, 2.50, 1.55, 2.4585])\n",
    "robot.tool.grasp_with_tool()\n",
    "robot.arm.move_pose([0.37, 0.15, 0.065, 2.50, 1.55, 2.4585])\n",
    "robot.arm.move_pose([0.26, 0.03, 0.17, 1.55, 0.2, 1.497])#scan\n",
    "robot.wait(5)\n",
    "robot.arm.move_pose([0.22, -0.0, 0.21, -2.96, 1.54, -2.9783])#home\n",
    "robot.arm.move_pose([0.37, 0.15, 0.05, 2.50, 1.55, 2.4585])\n",
    "robot.tool.release_with_tool()\n",
    "robot.arm.move_pose([0.22, -0.0, 0.21, -2.96, 1.54, -2.9783])#home\n",
    "\n",
    "\n",
    "\n",
    "\n",
    "\n"
   ]
  },
  {
   "cell_type": "code",
   "execution_count": 25,
   "id": "5ead72ff",
   "metadata": {},
   "outputs": [],
   "source": [
    "robot.arm.move_pose([0.22, -0.0, 0.21, -2.96, 1.54, -2.9783]) #home\n",
    "robot.arm.move_pose([0.37, 0.15, 0.05, 2.50, 1.55, 2.4585]) #A1 pick pose\n",
    "robot.tool.grasp_with_tool()\n",
    "robot.arm.move_pose([0.37, 0.15, 0.065, 2.50, 1.55, 2.4585]) #A1 drop pose\n",
    "robot.arm.move_pose([0.3, 0.225, 0.06, -2.65, 1.52, -2.6712]) #L1 stack\n",
    "robot.tool.release_with_tool()\n"
   ]
  },
  {
   "cell_type": "code",
   "execution_count": null,
   "id": "27a49ad1",
   "metadata": {},
   "outputs": [
    {
     "name": "stdout",
     "output_type": "stream",
     "text": [
      "--- Starting Automated Collection for Row A ---\n",
      "\n",
      "--- Processing Card: A1 ---\n",
      "Moving to pick A1...\n",
      "Lifting card...\n",
      "Moving to L1 stack...\n",
      "\n",
      "--- Processing Card: A2 ---\n"
     ]
    },
    {
     "ename": "KeyboardInterrupt",
     "evalue": "",
     "output_type": "error",
     "traceback": [
      "\u001b[31m---------------------------------------------------------------------------\u001b[39m",
      "\u001b[31mKeyboardInterrupt\u001b[39m                         Traceback (most recent call last)",
      "\u001b[36mCell\u001b[39m\u001b[36m \u001b[39m\u001b[32mIn[28]\u001b[39m\u001b[32m, line 48\u001b[39m\n\u001b[32m     46\u001b[39m     \u001b[38;5;28mprint\u001b[39m(\u001b[33m\"\u001b[39m\u001b[38;5;130;01m\\n\u001b[39;00m\u001b[33m--- Collection Complete! Returning to Home Pose. ---\u001b[39m\u001b[33m\"\u001b[39m)\n\u001b[32m     47\u001b[39m     robot.arm.move_pose(home_pose)\n\u001b[32m---> \u001b[39m\u001b[32m48\u001b[39m \u001b[43mcollect_row_a_to_stack\u001b[49m\u001b[43m(\u001b[49m\u001b[43mrobot\u001b[49m\u001b[43m)\u001b[49m\n",
      "\u001b[36mCell\u001b[39m\u001b[36m \u001b[39m\u001b[32mIn[28]\u001b[39m\u001b[32m, line 28\u001b[39m, in \u001b[36mcollect_row_a_to_stack\u001b[39m\u001b[34m(robot)\u001b[39m\n\u001b[32m     25\u001b[39m lift_pose = drop_positions[card_id] \u001b[38;5;66;03m# Using the drop pose to lift the card up\u001b[39;00m\n\u001b[32m     27\u001b[39m \u001b[38;5;66;03m# Go to home before starting\u001b[39;00m\n\u001b[32m---> \u001b[39m\u001b[32m28\u001b[39m \u001b[43mrobot\u001b[49m\u001b[43m.\u001b[49m\u001b[43marm\u001b[49m\u001b[43m.\u001b[49m\u001b[43mmove_pose\u001b[49m\u001b[43m(\u001b[49m\u001b[43mhome_pose\u001b[49m\u001b[43m)\u001b[49m\n\u001b[32m     30\u001b[39m \u001b[38;5;66;03m# Pick sequence\u001b[39;00m\n\u001b[32m     31\u001b[39m \u001b[38;5;28mprint\u001b[39m(\u001b[33mf\u001b[39m\u001b[33m\"\u001b[39m\u001b[33mMoving to pick \u001b[39m\u001b[38;5;132;01m{\u001b[39;00mcard_id\u001b[38;5;132;01m}\u001b[39;00m\u001b[33m...\u001b[39m\u001b[33m\"\u001b[39m)\n",
      "\u001b[36mFile \u001b[39m\u001b[32m/Library/Frameworks/Python.framework/Versions/3.13/lib/python3.13/site-packages/pyniryo2/arm/arm.py:502\u001b[39m, in \u001b[36mArm.move_pose\u001b[39m\u001b[34m(self, pose, frame, callback)\u001b[39m\n\u001b[32m    500\u001b[39m goal.send(result_callback=callback)\n\u001b[32m    501\u001b[39m \u001b[38;5;28;01mif\u001b[39;00m callback \u001b[38;5;129;01mis\u001b[39;00m \u001b[38;5;28;01mNone\u001b[39;00m:\n\u001b[32m--> \u001b[39m\u001b[32m502\u001b[39m     _result = \u001b[43mgoal\u001b[49m\u001b[43m.\u001b[49m\u001b[43mwait\u001b[49m\u001b[43m(\u001b[49m\u001b[38;5;28;43mself\u001b[39;49m\u001b[43m.\u001b[49m\u001b[43m__action_timeout\u001b[49m\u001b[43m)\u001b[49m\n",
      "\u001b[36mFile \u001b[39m\u001b[32m/Library/Frameworks/Python.framework/Versions/3.13/lib/python3.13/site-packages/roslibpy/actionlib.py:139\u001b[39m, in \u001b[36mGoal.wait\u001b[39m\u001b[34m(self, timeout)\u001b[39m\n\u001b[32m    128\u001b[39m \u001b[38;5;28;01mdef\u001b[39;00m\u001b[38;5;250m \u001b[39m\u001b[34mwait\u001b[39m(\u001b[38;5;28mself\u001b[39m, timeout=\u001b[38;5;28;01mNone\u001b[39;00m):\n\u001b[32m    129\u001b[39m \u001b[38;5;250m    \u001b[39m\u001b[33;03m\"\"\"Block until the result is available.\u001b[39;00m\n\u001b[32m    130\u001b[39m \n\u001b[32m    131\u001b[39m \u001b[33;03m    If ``timeout`` is ``None``, it will wait indefinitely.\u001b[39;00m\n\u001b[32m   (...)\u001b[39m\u001b[32m    137\u001b[39m \u001b[33;03m        Result of the goal.\u001b[39;00m\n\u001b[32m    138\u001b[39m \u001b[33;03m    \"\"\"\u001b[39;00m\n\u001b[32m--> \u001b[39m\u001b[32m139\u001b[39m     \u001b[38;5;28;01mif\u001b[39;00m \u001b[38;5;129;01mnot\u001b[39;00m \u001b[38;5;28;43mself\u001b[39;49m\u001b[43m.\u001b[49m\u001b[43mwait_result\u001b[49m\u001b[43m.\u001b[49m\u001b[43mwait\u001b[49m\u001b[43m(\u001b[49m\u001b[43mtimeout\u001b[49m\u001b[43m)\u001b[49m:\n\u001b[32m    140\u001b[39m         \u001b[38;5;28;01mraise\u001b[39;00m RosTimeoutError(\u001b[33m\"\u001b[39m\u001b[33mGoal failed to receive result\u001b[39m\u001b[33m\"\u001b[39m)\n\u001b[32m    142\u001b[39m     \u001b[38;5;28;01mreturn\u001b[39;00m \u001b[38;5;28mself\u001b[39m.result\n",
      "\u001b[36mFile \u001b[39m\u001b[32m/Library/Frameworks/Python.framework/Versions/3.13/lib/python3.13/threading.py:659\u001b[39m, in \u001b[36mEvent.wait\u001b[39m\u001b[34m(self, timeout)\u001b[39m\n\u001b[32m    657\u001b[39m signaled = \u001b[38;5;28mself\u001b[39m._flag\n\u001b[32m    658\u001b[39m \u001b[38;5;28;01mif\u001b[39;00m \u001b[38;5;129;01mnot\u001b[39;00m signaled:\n\u001b[32m--> \u001b[39m\u001b[32m659\u001b[39m     signaled = \u001b[38;5;28;43mself\u001b[39;49m\u001b[43m.\u001b[49m\u001b[43m_cond\u001b[49m\u001b[43m.\u001b[49m\u001b[43mwait\u001b[49m\u001b[43m(\u001b[49m\u001b[43mtimeout\u001b[49m\u001b[43m)\u001b[49m\n\u001b[32m    660\u001b[39m \u001b[38;5;28;01mreturn\u001b[39;00m signaled\n",
      "\u001b[36mFile \u001b[39m\u001b[32m/Library/Frameworks/Python.framework/Versions/3.13/lib/python3.13/threading.py:363\u001b[39m, in \u001b[36mCondition.wait\u001b[39m\u001b[34m(self, timeout)\u001b[39m\n\u001b[32m    361\u001b[39m \u001b[38;5;28;01melse\u001b[39;00m:\n\u001b[32m    362\u001b[39m     \u001b[38;5;28;01mif\u001b[39;00m timeout > \u001b[32m0\u001b[39m:\n\u001b[32m--> \u001b[39m\u001b[32m363\u001b[39m         gotit = \u001b[43mwaiter\u001b[49m\u001b[43m.\u001b[49m\u001b[43macquire\u001b[49m\u001b[43m(\u001b[49m\u001b[38;5;28;43;01mTrue\u001b[39;49;00m\u001b[43m,\u001b[49m\u001b[43m \u001b[49m\u001b[43mtimeout\u001b[49m\u001b[43m)\u001b[49m\n\u001b[32m    364\u001b[39m     \u001b[38;5;28;01melse\u001b[39;00m:\n\u001b[32m    365\u001b[39m         gotit = waiter.acquire(\u001b[38;5;28;01mFalse\u001b[39;00m)\n",
      "\u001b[31mKeyboardInterrupt\u001b[39m: "
     ]
    }
   ],
   "source": [
    "import time\n",
    "from pyniryo2 import NiryoRobot\n",
    "\n",
    "try:\n",
    "    from recorded_positions import *\n",
    "except ImportError:\n",
    "    print(\"Error: Make sure 'recorded_positions.py' is in the same folder as your notebook.\")\n",
    "\n",
    "def collect_row_a_to_stack(robot):\n",
    "\n",
    "    # --- 2. Define the fixed home pose ---\n",
    "    home_pose = [0.22, -0.0, 0.21, -2.96, 1.54, -2.9783]\n",
    "    L1 = [0.3, 0.225, 0.06, -2.65, 1.52, -2.6712]\n",
    "    # --- The list of cards to process ---\n",
    "    cards_to_collect = [\"A1\", \"A2\", \"A3\", \"A4\", \"A5\"]\n",
    "\n",
    "    print(\"--- Starting Automated Collection for Row A ---\")\n",
    "\n",
    "    # --- 3. Loop through each card from A1 to A5 ---\n",
    "    for card_id in cards_to_collect:\n",
    "        print(f\"\\n--- Processing Card: {card_id} ---\")\n",
    "\n",
    "        # Get the specific poses for the current card\n",
    "        pick_pose = pick_positions[card_id]\n",
    "        lift_pose = drop_positions[card_id] # Using the drop pose to lift the card up\n",
    "        \n",
    "        # Go to home before starting\n",
    "        robot.arm.move_pose(home_pose)\n",
    "        \n",
    "        # Pick sequence\n",
    "        print(f\"Moving to pick {card_id}...\")\n",
    "        robot.arm.move_pose(pick_pose)\n",
    "        robot.tool.grasp_with_tool()\n",
    "        \n",
    "        # Lift sequence\n",
    "        print(\"Lifting card...\")\n",
    "        robot.arm.move_pose(lift_pose)\n",
    "        robot.arm.move_pose(home_pose)\n",
    "        # Go back home, then to the stack\n",
    "        print(\"Moving to L1 stack...\")\n",
    "        robot.arm.move_pose([0.3, 0.225, 0.06, -2.65, 1.52, -2.6712])\n",
    "        robot.tool.release_with_tool()\n",
    "        robot.arm.move_pose(home_pose)\n",
    "\n",
    "    # --- 4. Return home after the loop is finished ---\n",
    "    print(\"\\n--- Collection Complete! Returning to Home Pose. ---\")\n",
    "    robot.arm.move_pose(home_pose)\n",
    "collect_row_a_to_stack(robot)"
   ]
  },
  {
   "cell_type": "code",
   "execution_count": 12,
   "id": "4610de75",
   "metadata": {},
   "outputs": [
    {
     "name": "stdout",
     "output_type": "stream",
     "text": [
      "(0.3, 0.22, 0.06, -2.75, 1.52, -2.6712) \n"
     ]
    }
   ],
   "source": [
    "pose_read = robot.arm.get_pose()\n",
    "print(f'{round(pose_read.x,2), round(pose_read.y,2), round(pose_read.z,2), round(pose_read.roll,2), round(pose_read.pitch,2), round(pose_read.yaw,4)} ')"
   ]
  },
  {
   "cell_type": "code",
   "execution_count": null,
   "id": "87360d5f",
   "metadata": {},
   "outputs": [],
   "source": [
    "robot.arm.move_pose([0.22, -0.0, 0.21, -2.96, 1.54, -2.9783])\n"
   ]
  },
  {
   "cell_type": "code",
   "execution_count": 7,
   "id": "9dc767a1",
   "metadata": {},
   "outputs": [],
   "source": [
    "robot.tool.grasp_with_tool()"
   ]
  },
  {
   "cell_type": "code",
   "execution_count": 13,
   "id": "3243ac06",
   "metadata": {},
   "outputs": [],
   "source": [
    "robot.tool.release_with_tool()\n"
   ]
  },
  {
   "cell_type": "code",
   "execution_count": null,
   "id": "80f8c6c2",
   "metadata": {},
   "outputs": [],
   "source": [
    "robot.tool.release_with_tool()\n",
    "robot.tool.grasp_with_tool()\n",
    "robot.arm.move_pose([-0.02, -0.46, 0.18, -0.13, -1.15, -1.504])\n"
   ]
  },
  {
   "cell_type": "code",
   "execution_count": null,
   "id": "7eb16957",
   "metadata": {},
   "outputs": [
    {
     "name": "stdout",
     "output_type": "stream",
     "text": [
      "[SCAN] Looking for card at \n"
     ]
    },
    {
     "ename": "KeyboardInterrupt",
     "evalue": "",
     "output_type": "error",
     "traceback": [
      "\u001b[31m---------------------------------------------------------------------------\u001b[39m",
      "\u001b[31mKeyboardInterrupt\u001b[39m                         Traceback (most recent call last)",
      "\u001b[36mCell\u001b[39m\u001b[36m \u001b[39m\u001b[32mIn[10]\u001b[39m\u001b[32m, line 14\u001b[39m\n\u001b[32m     12\u001b[39m last_center = stable_since = detection_time = \u001b[38;5;28;01mNone\u001b[39;00m\n\u001b[32m     13\u001b[39m \u001b[38;5;28;01mwhile\u001b[39;00m \u001b[38;5;28;01mTrue\u001b[39;00m:\n\u001b[32m---> \u001b[39m\u001b[32m14\u001b[39m     img_compressed = \u001b[43mvision\u001b[49m\u001b[43m.\u001b[49m\u001b[43mget_img_compressed\u001b[49m\u001b[43m(\u001b[49m\u001b[43m)\u001b[49m\n\u001b[32m     16\u001b[39m     \u001b[38;5;66;03m# Check if the image was successfully captured\u001b[39;00m\n\u001b[32m     17\u001b[39m     \u001b[38;5;28;01mif\u001b[39;00m img_compressed \u001b[38;5;129;01mis\u001b[39;00m \u001b[38;5;28;01mNone\u001b[39;00m:\n",
      "\u001b[36mFile \u001b[39m\u001b[32m/Library/Frameworks/Python.framework/Versions/3.13/lib/python3.13/site-packages/pyniryo2/niryo_topic.py:52\u001b[39m, in \u001b[36mNiryoTopic.__call__\u001b[39m\u001b[34m(self)\u001b[39m\n\u001b[32m     50\u001b[39m \u001b[38;5;28mself\u001b[39m.__sync_event.clear()\n\u001b[32m     51\u001b[39m \u001b[38;5;28mself\u001b[39m.__topic.subscribe(\u001b[38;5;28mself\u001b[39m.__internal_callback)\n\u001b[32m---> \u001b[39m\u001b[32m52\u001b[39m \u001b[38;5;28;43mself\u001b[39;49m\u001b[43m.\u001b[49m\u001b[43m__sync_event\u001b[49m\u001b[43m.\u001b[49m\u001b[43mwait\u001b[49m\u001b[43m(\u001b[49m\u001b[43mtimeout\u001b[49m\u001b[43m=\u001b[49m\u001b[38;5;28;43mself\u001b[39;49m\u001b[43m.\u001b[49m\u001b[43m__timeout\u001b[49m\u001b[43m)\u001b[49m\n\u001b[32m     53\u001b[39m \u001b[38;5;28mself\u001b[39m.__topic.unsubscribe()\n\u001b[32m     54\u001b[39m \u001b[38;5;28;01mreturn\u001b[39;00m \u001b[38;5;28mself\u001b[39m.__sync_topic_value\n",
      "\u001b[36mFile \u001b[39m\u001b[32m/Library/Frameworks/Python.framework/Versions/3.13/lib/python3.13/threading.py:659\u001b[39m, in \u001b[36mEvent.wait\u001b[39m\u001b[34m(self, timeout)\u001b[39m\n\u001b[32m    657\u001b[39m signaled = \u001b[38;5;28mself\u001b[39m._flag\n\u001b[32m    658\u001b[39m \u001b[38;5;28;01mif\u001b[39;00m \u001b[38;5;129;01mnot\u001b[39;00m signaled:\n\u001b[32m--> \u001b[39m\u001b[32m659\u001b[39m     signaled = \u001b[38;5;28;43mself\u001b[39;49m\u001b[43m.\u001b[49m\u001b[43m_cond\u001b[49m\u001b[43m.\u001b[49m\u001b[43mwait\u001b[49m\u001b[43m(\u001b[49m\u001b[43mtimeout\u001b[49m\u001b[43m)\u001b[49m\n\u001b[32m    660\u001b[39m \u001b[38;5;28;01mreturn\u001b[39;00m signaled\n",
      "\u001b[36mFile \u001b[39m\u001b[32m/Library/Frameworks/Python.framework/Versions/3.13/lib/python3.13/threading.py:363\u001b[39m, in \u001b[36mCondition.wait\u001b[39m\u001b[34m(self, timeout)\u001b[39m\n\u001b[32m    361\u001b[39m \u001b[38;5;28;01melse\u001b[39;00m:\n\u001b[32m    362\u001b[39m     \u001b[38;5;28;01mif\u001b[39;00m timeout > \u001b[32m0\u001b[39m:\n\u001b[32m--> \u001b[39m\u001b[32m363\u001b[39m         gotit = \u001b[43mwaiter\u001b[49m\u001b[43m.\u001b[49m\u001b[43macquire\u001b[49m\u001b[43m(\u001b[49m\u001b[38;5;28;43;01mTrue\u001b[39;49;00m\u001b[43m,\u001b[49m\u001b[43m \u001b[49m\u001b[43mtimeout\u001b[49m\u001b[43m)\u001b[49m\n\u001b[32m    364\u001b[39m     \u001b[38;5;28;01melse\u001b[39;00m:\n\u001b[32m    365\u001b[39m         gotit = waiter.acquire(\u001b[38;5;28;01mFalse\u001b[39;00m)\n",
      "\u001b[31mKeyboardInterrupt\u001b[39m: "
     ]
    },
    {
     "ename": "",
     "evalue": "",
     "output_type": "error",
     "traceback": [
      "\u001b[1;31mThe Kernel crashed while executing code in the current cell or a previous cell. \n",
      "\u001b[1;31mPlease review the code in the cell(s) to identify a possible cause of the failure. \n",
      "\u001b[1;31mClick <a href='https://aka.ms/vscodeJupyterKernelCrash'>here</a> for more info. \n",
      "\u001b[1;31mView Jupyter <a href='command:jupyter.viewOutput'>log</a> for further details."
     ]
    }
   ],
   "source": [
    "import cv2\n",
    "import pyniryo\n",
    "from pyniryo2 import NiryoRos, Vision\n",
    "import numpy as np\n",
    "\n",
    "CARD_BOX = (270, 140, 190, 190)  # x,y,h,w\n",
    "\n",
    "ros_instance = NiryoRos(\"169.254.200.200\")\n",
    "vision = Vision(ros_instance)\n",
    "\n",
    "print(\"[SCAN] Looking for card at \")\n",
    "last_center = stable_since = detection_time = None\n",
    "while True:\n",
    "    img_compressed = vision.get_img_compressed()\n",
    "    \n",
    "    # Check if the image was successfully captured\n",
    "    if img_compressed is None:\n",
    "        print(\"[ERROR] Could not get compressed image from the robot.\")\n",
    "        continue  # Skip the rest of the loop and try again\n",
    "\n",
    "    img_uncompressed = pyniryo.uncompress_image(img_compressed)\n",
    "    \n",
    "    # Add a check for the uncompressed image as well\n",
    "    if img_uncompressed is None:\n",
    "        print(\"[ERROR] Failed to uncompress image.\")\n",
    "        continue\n",
    "\n",
    "    camera_info = vision.get_camera_intrinsics()\n",
    "    img = pyniryo.undistort_image(img_uncompressed, camera_info.intrinsics, camera_info.distortion)\n",
    "\n",
    "    frame = cv2.resize(img, (640, 480))\n",
    "    cv2.rectangle(frame, (CARD_BOX[0], CARD_BOX[1]), (CARD_BOX[0] + CARD_BOX[2], CARD_BOX[1] + CARD_BOX[3]), (0, 255, 0), 2)\n",
    "    cv2.imshow(\"Adjust ROI\", frame)\n",
    "\n",
    "    key = cv2.waitKey(1)\n",
    "    if key == ord('q'):\n",
    "        break\n",
    "\n",
    "cv2.destroyAllWindows()"
   ]
  },
  {
   "cell_type": "code",
   "execution_count": null,
   "id": "e9323083",
   "metadata": {},
   "outputs": [],
   "source": [
    "import cv2\n",
    "from pyniryo2 import NiryoRobot\n",
    "import pyniryo  # Import the pyniryo helper library\n",
    "import numpy as np\n",
    "\n",
    "# --- Configuration ---\n",
    "ROBOT_IP_ADDRESS = \"169.254.200.200\"\n",
    "# Defines the region of interest (ROI) in the camera feed (x, y, w, h)\n",
    "CARD_BOX = (270, 140, 190, 190)\n",
    "\n",
    "def show_camera_feed():\n",
    "    \"\"\"\n",
    "    Connects to the Niryo robot and displays its camera feed in a window.\n",
    "    Draws a green rectangle to show the Region of Interest (ROI).\n",
    "    \"\"\"\n",
    "    robot = None  # Initialize robot to None\n",
    "    try:\n",
    "        # Connect to the robot\n",
    "        robot = NiryoRobot(ROBOT_IP_ADDRESS)\n",
    "        print(\"✅ Successfully connected to the robot.\")\n",
    "    except Exception as e:\n",
    "        print(f\"❌ Could not connect to robot at {ROBOT_IP_ADDRESS}. Error: {e}\")\n",
    "        return\n",
    "\n",
    "    print(\"\\nDisplaying camera feed. Press 'q' in the window to quit.\")\n",
    "\n",
    "    try:\n",
    "        while True:\n",
    "            # --- SIMPLIFIED IMAGE CAPTURE LOGIC ---\n",
    "            # 1. Get the compressed image from the robot's camera\n",
    "            img_compressed = robot.vision.get_img_compressed()\n",
    "            if img_compressed is None:\n",
    "                print(\"[ERROR] Could not get compressed image from the robot.\")\n",
    "                cv2.waitKey(500)\n",
    "                continue\n",
    "\n",
    "            # 2. Uncompress the image using the pyniryo helper\n",
    "            # This will be our main image for this simplified test.\n",
    "            img_np = pyniryo.uncompress_image(img_compressed)\n",
    "            if img_np is None:\n",
    "                print(\"[ERROR] Failed to uncompress image.\")\n",
    "                cv2.waitKey(500)\n",
    "                continue\n",
    "\n",
    "            # NOTE: We are skipping the undistortion step to simplify the process\n",
    "            # and isolate potential issues. The image may appear slightly warped.\n",
    "            # --- END OF SIMPLIFICATION ---\n",
    "\n",
    "            # Resize the image for display\n",
    "            frame = cv2.resize(img_np, (640, 480))\n",
    "\n",
    "            # Draw the green rectangle for the Region of Interest\n",
    "            pt1 = (CARD_BOX[0], CARD_BOX[1])\n",
    "            pt2 = (CARD_BOX[0] + CARD_BOX[2], CARD_BOX[1] + CARD_BOX[3])\n",
    "            cv2.rectangle(frame, pt1, pt2, (0, 255, 0), 2)\n",
    "\n",
    "            # Show the image in a window\n",
    "            cv2.imshow(\"Niryo Camera Feed - Adjust ROI (Press 'q' to quit)\", frame)\n",
    "\n",
    "            # Wait for a key press. If 'q' is pressed, exit the loop.\n",
    "            key = cv2.waitKey(1) & 0xFF\n",
    "            if key == ord('q'):\n",
    "                print(\"\\n'q' pressed. Closing camera feed.\")\n",
    "                break\n",
    "\n",
    "    except Exception as e:\n",
    "        print(f\"An error occurred in the main loop: {e}\")\n",
    "    finally:\n",
    "        # Clean up and close all OpenCV windows and disconnect from the robot\n",
    "        cv2.destroyAllWindows()\n",
    "        if robot:\n",
    "            robot.close_connection()\n",
    "        print(\"Camera feed closed and disconnected from the robot.\")\n",
    "\n",
    "\n",
    "if __name__ == '__main__':\n",
    "    show_camera_feed()\n",
    "\n"
   ]
  }
 ],
 "metadata": {
  "kernelspec": {
   "display_name": "Python 3",
   "language": "python",
   "name": "python3"
  },
  "language_info": {
   "codemirror_mode": {
    "name": "ipython",
    "version": 3
   },
   "file_extension": ".py",
   "mimetype": "text/x-python",
   "name": "python",
   "nbconvert_exporter": "python",
   "pygments_lexer": "ipython3",
   "version": "3.13.2"
  }
 },
 "nbformat": 4,
 "nbformat_minor": 5
}
