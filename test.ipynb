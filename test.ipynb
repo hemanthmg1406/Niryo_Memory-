{
 "cells": [
  {
   "cell_type": "code",
   "execution_count": 1,
   "id": "6c3ae67f",
   "metadata": {},
   "outputs": [
    {
     "name": "stderr",
     "output_type": "stream",
     "text": [
      "/Library/Frameworks/Python.framework/Versions/3.13/lib/python3.13/site-packages/pygame/pkgdata.py:25: UserWarning: pkg_resources is deprecated as an API. See https://setuptools.pypa.io/en/latest/pkg_resources.html. The pkg_resources package is slated for removal as early as 2025-11-30. Refrain from using this package or pin to Setuptools<81.\n",
      "  from pkg_resources import resource_stream, resource_exists\n"
     ]
    },
    {
     "name": "stdout",
     "output_type": "stream",
     "text": [
      "pygame 2.6.1 (SDL 2.28.4, Python 3.13.2)\n",
      "Hello from the pygame community. https://www.pygame.org/contribute.html\n"
     ]
    }
   ],
   "source": [
    "import cv2\n",
    "import os\n",
    "import time\n",
    "from memory_queues import square_queue, gui_queue\n",
    "from memory_logic import register_card\n",
    "from sift_utils import extract_sift_signature, auto_crop_inside_white_edges, draw_oriented_bounding_box\n",
    "from recorded_positions import pick_positions, drop_positions, home_pose, scan_pose\n",
    "from pyniryo2 import NiryoRos, NiryoRobot, Vision\n",
    "import pyniryo\n",
    "from matplotlib import pyplot as plt\n",
    "import numpy as np"
   ]
  },
  {
   "cell_type": "code",
   "execution_count": 5,
   "id": "9fac0353",
   "metadata": {},
   "outputs": [],
   "source": [
    "robot_ip_address = \"169.254.200.200\"\n",
    "robot = NiryoRobot(robot_ip_address)\n",
    "robot.arm.calibrate_auto()\n",
    "# robot.activate_vacuum()\n",
    "robot.tool.release_with_tool()\n",
    "robot.arm.move_pose(home_pose)\n"
   ]
  },
  {
   "cell_type": "code",
   "execution_count": 18,
   "id": "b37a2c90",
   "metadata": {},
   "outputs": [
    {
     "name": "stdout",
     "output_type": "stream",
     "text": [
      "(0.34, 0.21, 0.07, 2.64, 1.52, -2.6232) \n"
     ]
    }
   ],
   "source": [
    "pose_read = robot.arm.get_pose()\n",
    "print(f'{round(pose_read.x,2), round(pose_read.y,2), round(pose_read.z,2), round(pose_read.roll,2), round(pose_read.pitch,2), round(pose_read.yaw,4)} ')"
   ]
  },
  {
   "cell_type": "code",
   "execution_count": 15,
   "id": "a6b2d3ac",
   "metadata": {},
   "outputs": [],
   "source": [
    "#A1\n",
    "robot.tool.release_with_tool()\n",
    "robot.arm.move_pose([0.13, 0.21, 0.09, 2.63, 1.49, -2.8043])\n",
    "robot.arm.move_pose([0.13, 0.21, 0.07, 2.63, 1.49, -2.8043])\n",
    "robot.tool.grasp_with_tool()\n",
    "robot.arm.move_pose([0.41, 0.0, 0.25, -0.03, 1.06, -0.0264])"
   ]
  },
  {
   "cell_type": "code",
   "execution_count": 26,
   "id": "26aae857",
   "metadata": {},
   "outputs": [],
   "source": [
    "robot.arm.move_pose([0.37, 0.07, 0.06, 2.5, 1.52, 2.4846])"
   ]
  },
  {
   "cell_type": "code",
   "execution_count": 27,
   "id": "7cd418e7",
   "metadata": {},
   "outputs": [],
   "source": [
    "robot.arm.move_pose([0.37, -0.0, 0.06, 2.93, 1.48, 3.0217])"
   ]
  },
  {
   "cell_type": "code",
   "execution_count": 40,
   "id": "320fd8ec",
   "metadata": {},
   "outputs": [],
   "source": [
    "robot.arm.move_pose([0.37, -0.072, 0.06, 2.74, 1.49, 2.7749])"
   ]
  },
  {
   "cell_type": "code",
   "execution_count": 51,
   "id": "f5656adc",
   "metadata": {},
   "outputs": [],
   "source": [
    "#A5\n",
    "robot.arm.move_pose([0.37, -0.147, 0.07, 1.80, 1.55, 1.85])"
   ]
  },
  {
   "cell_type": "code",
   "execution_count": 7,
   "id": "04e9f68b",
   "metadata": {},
   "outputs": [
    {
     "name": "stdout",
     "output_type": "stream",
     "text": [
      "(-0.05, -0.15, 0.24, -0.33, 0.97, -1.8236) \n"
     ]
    }
   ],
   "source": [
    "pose_read = robot.arm.get_pose()\n",
    "print(f'{round(pose_read.x,2), round(pose_read.y,2), round(pose_read.z,2), round(pose_read.roll,2), round(pose_read.pitch,2), round(pose_read.yaw,4)} ')"
   ]
  },
  {
   "cell_type": "code",
   "execution_count": null,
   "id": "b43fb7a8",
   "metadata": {},
   "outputs": [],
   "source": [
    "#B1\n",
    "robot.arm.move_pose([-0.05, -0.15, 0.24, -0.33, 0.97, -1.8236])\n",
    "robot.arm.move_pose([])\n"
   ]
  },
  {
   "cell_type": "code",
   "execution_count": 76,
   "id": "2fe68869",
   "metadata": {},
   "outputs": [],
   "source": [
    "robot.arm.move_pose([0.30, 0.072, 0.06, 3.05, 1.55, 3.1])"
   ]
  },
  {
   "cell_type": "code",
   "execution_count": 78,
   "id": "779b6355",
   "metadata": {},
   "outputs": [],
   "source": [
    "robot.arm.move_pose([0.295, -0.0, 0.06, 2.9, 1.53, 2.9372])"
   ]
  },
  {
   "cell_type": "code",
   "execution_count": 82,
   "id": "0ee6c8ec",
   "metadata": {},
   "outputs": [],
   "source": [
    "#B4\n",
    "robot.arm.move_pose([0.295, -0.072, 0.06, 2.4, 1.51, 2.4366])"
   ]
  },
  {
   "cell_type": "code",
   "execution_count": 84,
   "id": "8d23e7f1",
   "metadata": {},
   "outputs": [],
   "source": [
    "#B5\n",
    "robot.arm.move_pose([0.295, -0.147, 0.06, 2.60, 1.54, 2.616])"
   ]
  },
  {
   "cell_type": "code",
   "execution_count": 94,
   "id": "ef10b6e0",
   "metadata": {},
   "outputs": [],
   "source": [
    "#C1\n",
    "robot.arm.move_pose([0.222, 0.147, 0.06, 3.5, 1.54, -2.75])"
   ]
  },
  {
   "cell_type": "code",
   "execution_count": 107,
   "id": "779f5dff",
   "metadata": {},
   "outputs": [],
   "source": [
    "robot.arm.move_pose([0.222, 0.072, 0.06, -2.99, 1.52, -2.9983])"
   ]
  },
  {
   "cell_type": "code",
   "execution_count": 108,
   "id": "3fb44fa6",
   "metadata": {},
   "outputs": [],
   "source": [
    "robot.arm.move_pose([0.222, 0.0, 0.07, 2.8, 1.53, 2.8175])"
   ]
  },
  {
   "cell_type": "code",
   "execution_count": 115,
   "id": "e1ce32ac",
   "metadata": {},
   "outputs": [],
   "source": [
    "robot.arm.move_pose([0.222, -0.072, 0.06, 3.11, 1.48, 3.15])"
   ]
  },
  {
   "cell_type": "code",
   "execution_count": 117,
   "id": "decf5271",
   "metadata": {},
   "outputs": [],
   "source": [
    "#C5\n",
    "robot.arm.move_pose([0.222, -0.147, 0.06, 2.53, 1.52, 2.5475])"
   ]
  },
  {
   "cell_type": "code",
   "execution_count": null,
   "id": "054ff060",
   "metadata": {},
   "outputs": [],
   "source": [
    "#D1\n",
    "robot.arm.move_pose([0.147, 0.147, 0.07, 3.0, 1.48, 3.0651])"
   ]
  },
  {
   "cell_type": "code",
   "execution_count": 138,
   "id": "2a9a1238",
   "metadata": {},
   "outputs": [],
   "source": [
    "robot.arm.move_pose([0.147, 0.075, 0.07, -2.52, 1.52, -2.55])"
   ]
  },
  {
   "cell_type": "code",
   "execution_count": 147,
   "id": "745b3384",
   "metadata": {},
   "outputs": [],
   "source": [
    "robot.arm.move_pose([0.147, 0.0, 0.06, -3.13, 1.44, -3.1])"
   ]
  },
  {
   "cell_type": "code",
   "execution_count": 155,
   "id": "e9d2773f",
   "metadata": {},
   "outputs": [],
   "source": [
    "robot.arm.move_pose([0.147, -0.072, 0.06, 2.54, 1.51, 2.6])"
   ]
  },
  {
   "cell_type": "code",
   "execution_count": 163,
   "id": "72a1552c",
   "metadata": {},
   "outputs": [],
   "source": [
    "#D5\n",
    "robot.arm.move_pose([0.147, -0.144, 0.06, -3.80, 1.54, 2.5])"
   ]
  },
  {
   "cell_type": "code",
   "execution_count": 269,
   "id": "872f371f",
   "metadata": {},
   "outputs": [],
   "source": [
    "robot.arm.move_pose([0.37, 0.147, 0.075, 2.50, 1.55, 2.4585])\n",
    "robot.arm.move_pose([0.37, 0.147, 0.06, 2.50, 1.55, 2.4585])\n",
    "robot.tool.grasp_with_tool()\n",
    "robot.arm.move_pose([0.37, 0.147, 0.075, 2.50, 1.55, 2.4585])\n",
    "robot.arm.move_pose([0.26, 0.03, 0.15, 1.55, 0.2, 1.497])\n"
   ]
  },
  {
   "cell_type": "code",
   "execution_count": 261,
   "id": "414e3174",
   "metadata": {},
   "outputs": [],
   "source": [
    "robot.arm.move_pose([0.222, -0.225, 0.08, 2.63, 1.51, 2.65])\n"
   ]
  },
  {
   "cell_type": "code",
   "execution_count": 185,
   "id": "316ee1fe",
   "metadata": {},
   "outputs": [],
   "source": [
    "#L2\n",
    "robot.arm.move_pose([0.222, 0.226, 0.08, 2.11, 1.56, 1.93])"
   ]
  },
  {
   "cell_type": "code",
   "execution_count": 4,
   "id": "bc308667",
   "metadata": {},
   "outputs": [],
   "source": [
    "robot.tool.release_with_tool()"
   ]
  },
  {
   "cell_type": "code",
   "execution_count": 5,
   "id": "bbd0c406",
   "metadata": {},
   "outputs": [],
   "source": [
    "robot.tool.grasp_with_tool()"
   ]
  },
  {
   "cell_type": "code",
   "execution_count": 219,
   "id": "8f424022",
   "metadata": {},
   "outputs": [],
   "source": [
    "#R1\n",
    "robot.arm.move_pose([0.37, 0.147, 0.06, 2.50, 1.55, 2.4585])\n",
    "robot.tool.grasp_with_tool()\n",
    "robot.arm.move_pose([0.295, -0.225, 0.08, 2.61, 1.51, 2.65])\n",
    "robot.tool.release_with_tool()"
   ]
  },
  {
   "cell_type": "code",
   "execution_count": 207,
   "id": "03112243",
   "metadata": {},
   "outputs": [],
   "source": [
    "#R2\n",
    "robot.arm.move_pose([0.222, -0.22, 0.08, 2.63, 1.51, 2.65])"
   ]
  },
  {
   "cell_type": "code",
   "execution_count": 214,
   "id": "e743e59d",
   "metadata": {},
   "outputs": [
    {
     "name": "stdout",
     "output_type": "stream",
     "text": [
      "(0.41, 0.0, 0.25, -0.03, 1.06, -0.0264) \n"
     ]
    }
   ],
   "source": [
    "pose_read = robot.arm.get_pose()\n",
    "print(f'{round(pose_read.x,2), round(pose_read.y,2), round(pose_read.z,2), round(pose_read.roll,2), round(pose_read.pitch,2), round(pose_read.yaw,4)} ')"
   ]
  },
  {
   "cell_type": "code",
   "execution_count": 6,
   "id": "372f6258",
   "metadata": {},
   "outputs": [],
   "source": [
    "robot.arm.move_pose([0.26, 0.03, 0.15, 1.58, 0.01, 1.576])"
   ]
  },
  {
   "cell_type": "code",
   "execution_count": 212,
   "id": "7739c5b6",
   "metadata": {},
   "outputs": [
    {
     "ename": "TypeError",
     "evalue": "LedRing.chase() missing 1 required positional argument: 'color'",
     "output_type": "error",
     "traceback": [
      "\u001b[31m---------------------------------------------------------------------------\u001b[39m",
      "\u001b[31mTypeError\u001b[39m                                 Traceback (most recent call last)",
      "\u001b[36mCell\u001b[39m\u001b[36m \u001b[39m\u001b[32mIn[212]\u001b[39m\u001b[32m, line 1\u001b[39m\n\u001b[32m----> \u001b[39m\u001b[32m1\u001b[39m \u001b[43mrobot\u001b[49m\u001b[43m.\u001b[49m\u001b[43mled_ring\u001b[49m\u001b[43m.\u001b[49m\u001b[43mchase\u001b[49m\u001b[43m(\u001b[49m\u001b[43m)\u001b[49m\n",
      "\u001b[36mFile \u001b[39m\u001b[32m/Library/Frameworks/Python.framework/Versions/3.13/lib/python3.13/site-packages/pyniryo2/led_ring/led_ring.py:23\u001b[39m, in \u001b[36mcheck_ned2_version.<locals>.wrap\u001b[39m\u001b[34m(*args, **kwargs)\u001b[39m\n\u001b[32m     19\u001b[39m \u001b[38;5;28;01mif\u001b[39;00m robot_instance.client.hardware_version != \u001b[33m'\u001b[39m\u001b[33mned2\u001b[39m\u001b[33m'\u001b[39m:\n\u001b[32m     20\u001b[39m     \u001b[38;5;28;01mraise\u001b[39;00m \u001b[38;5;167;01mException\u001b[39;00m(\u001b[33m\"\u001b[39m\u001b[33mError Code : BAD_HARDWARE_VERSION\u001b[39m\u001b[38;5;130;01m\\n\u001b[39;00m\u001b[33m\"\u001b[39m\n\u001b[32m     21\u001b[39m                     \u001b[33m\"\u001b[39m\u001b[33mMessage : Wrong robot hardware version, feature only available on Ned2\u001b[39m\u001b[33m\"\u001b[39m)\n\u001b[32m---> \u001b[39m\u001b[32m23\u001b[39m \u001b[38;5;28;01mreturn\u001b[39;00m \u001b[43mfunc\u001b[49m\u001b[43m(\u001b[49m\u001b[43m*\u001b[49m\u001b[43margs\u001b[49m\u001b[43m,\u001b[49m\u001b[43m \u001b[49m\u001b[43m*\u001b[49m\u001b[43m*\u001b[49m\u001b[43mkwargs\u001b[49m\u001b[43m)\u001b[49m\n",
      "\u001b[31mTypeError\u001b[39m: LedRing.chase() missing 1 required positional argument: 'color'"
     ]
    }
   ],
   "source": [
    "robot.led_ring.chase(------)"
   ]
  },
  {
   "cell_type": "code",
   "execution_count": null,
   "id": "89c71713",
   "metadata": {},
   "outputs": [],
   "source": []
  },
  {
   "cell_type": "code",
   "execution_count": null,
   "id": "46432941",
   "metadata": {},
   "outputs": [],
   "source": [
    "robot.arm.move_pose([])"
   ]
  },
  {
   "cell_type": "code",
   "execution_count": null,
   "id": "26c137af",
   "metadata": {},
   "outputs": [],
   "source": [
    "COLOR=[0,0,255]\n",
    "robot.led_ring.flash(COLOR, period=0.35, iterations=5, wait=True) \n",
    "robot.led_ring.turn_off()"
   ]
  },
  {
   "cell_type": "code",
   "execution_count": null,
   "id": "9c346210",
   "metadata": {},
   "outputs": [],
   "source": [
    "robot.arm.get_arm_max_velocity()\n",
    "robot.arm.move_pose([0.26, 0.03, 0.17, 1.55, 0.2, 1.497])\n",
    "\n"
   ]
  },
  {
   "cell_type": "code",
   "execution_count": null,
   "id": "456d4a0c",
   "metadata": {},
   "outputs": [],
   "source": [
    "pose_read = robot.arm.get_pose()\n",
    "print(f'{round(pose_read.x,2), round(pose_read.y,2), round(pose_read.z,2), round(pose_read.roll,2), round(pose_read.pitch,2), round(pose_read.yaw,4)} ')"
   ]
  },
  {
   "cell_type": "code",
   "execution_count": null,
   "id": "baaa188a",
   "metadata": {},
   "outputs": [],
   "source": [
    "pose_read = robot.arm.get_pose()\n",
    "print(f'{round(pose_read.x,2), round(pose_read.y,2), round(pose_read.z,2), round(pose_read.roll,2), round(pose_read.pitch,2), round(pose_read.yaw,4)} ')"
   ]
  },
  {
   "cell_type": "code",
   "execution_count": null,
   "id": "96ce815f",
   "metadata": {},
   "outputs": [],
   "source": [
    "#L2\n",
    "robot.arm.move_pose([0.226, 0.226, 0.07, -2.10, 1.48, -2.1716])\n",
    "#robot.arm.move_pose([0.226, 0.226, 0.07, -2.28, 1.48, -2.1716])\n",
    "#robot.tool.grasp_with_tool()\n",
    "#robot.arm.move_pose([0.15, 0.0, 0.055, 1.48, 1.5, 1.5422])\n",
    "#robot.tool.grasp_with_tool()"
   ]
  },
  {
   "cell_type": "code",
   "execution_count": null,
   "id": "5afca8f9",
   "metadata": {},
   "outputs": [],
   "source": [
    "robot.arm.move_pose([0.230, -0.22, 0.07, 2.69, 1.45, 2.862])\n"
   ]
  },
  {
   "cell_type": "code",
   "execution_count": null,
   "id": "524c0c9b",
   "metadata": {},
   "outputs": [],
   "source": [
    "#R2\n",
    "robot.arm.move_pose([0.147, 0.074, 0.07, -2.85, 1.52, -2.5403])\n",
    "robot.arm.move_pose([0.147, 0.074, 0.053, -2.55, 1.52, -2.5403])\n",
    "robot.tool.grasp_with_tool()\n",
    "robot.arm.move_pose([0.147, 0.074, 0.07, -2.55, 1.52, -2.5403])\n",
    "robot.arm.move_pose([0.230, -0.22, 0.07, 2.61, 1.47, 2.8617])\n",
    "robot.tool.release_with_tool()\n",
    "\n",
    "\n"
   ]
  },
  {
   "cell_type": "code",
   "execution_count": null,
   "id": "9a2c84e2",
   "metadata": {},
   "outputs": [],
   "source": [
    "robot.arm.move_pose([0.22, -0.0, 0.21, -2.96, 1.54, -2.9783]) #home\n",
    "robot.arm.move_pose([0.15, 0.14, 0.056, 3.0, 1.48, 3.0651]) #A1 drop pose\n",
    "robot.arm.move_pose([0.15, 0.14, 0.05, 3.0, 1.48, 3.0651]) #A1 pick pose\n",
    "robot.tool.grasp_with_tool()\n",
    "robot.arm.move_pose([0.15, 0.14, 0.056, 3.0, 1.48, 3.0651]) #A1 drop pose\n",
    "robot.arm.move_pose([0.228, -0.22, 0.07, 2.67, 1.47, 2.8617]) #L1 stack\n",
    "robot.tool.release_with_tool()\n"
   ]
  },
  {
   "cell_type": "code",
   "execution_count": null,
   "id": "898b1f2b",
   "metadata": {},
   "outputs": [],
   "source": [
    "robot.arm.move_pose([0.22, -0.0, 0.21, -2.96, 1.54, -2.9783]) #home\n",
    "robot.arm.move_pose([0.147, 0.074, 0.07, -2.95, 1.52, -2.5403]) #A1 drop pose\n",
    "robot.arm.move_pose([0.147, 0.074, 0.055, -2.95, 1.52, -2.5403]) #A1 pick pose\n",
    "robot.tool.grasp_with_tool()\n",
    "robot.arm.move_pose([0.147, 0.074, 0.07, -2.95, 1.52, -2.5403]) #A1 drop pose\n",
    "robot.arm.move_pose([0.228, -0.22, 0.07, -2.95, 1.47, 2.8617]) #L1 stack\n",
    "robot.tool.release_with_tool()\n"
   ]
  },
  {
   "cell_type": "code",
   "execution_count": null,
   "id": "1f8c7eda",
   "metadata": {},
   "outputs": [],
   "source": [
    "robot.arm.move_pose([0.228, -0.22, 0.07, 2.69, 1.47, 2.8617]) #L1 stack\n"
   ]
  },
  {
   "cell_type": "code",
   "execution_count": null,
   "id": "740c92ed",
   "metadata": {},
   "outputs": [],
   "source": [
    "#scan pose\n",
    "robot.arm.move_pose([0.22, -0.0, 0.21, -2.96, 1.54, -2.9783]) #home\n",
    "robot.arm.move_pose([0.37, 0.15, 0.05, 2.50, 1.55, 2.4585])\n",
    "robot.tool.grasp_with_tool()\n",
    "robot.arm.move_pose([0.37, 0.15, 0.065, 2.50, 1.55, 2.4585])\n",
    "robot.arm.move_pose([0.26, 0.03, 0.17, 1.55, 0.2, 1.497])#scan\n",
    "robot.wait(5)\n",
    "robot.arm.move_pose([0.22, -0.0, 0.21, -2.96, 1.54, -2.9783])#home\n",
    "robot.arm.move_pose([0.37, 0.15, 0.05, 2.50, 1.55, 2.4585])\n",
    "robot.tool.release_with_tool()\n",
    "robot.arm.move_pose([0.22, -0.0, 0.21, -2.96, 1.54, -2.9783])#home\n",
    "\n",
    "\n",
    "\n",
    "\n",
    "\n"
   ]
  },
  {
   "cell_type": "code",
   "execution_count": null,
   "id": "5ead72ff",
   "metadata": {},
   "outputs": [],
   "source": [
    "robot.arm.move_pose([0.22, -0.0, 0.21, -2.96, 1.54, -2.9783]) #home\n",
    "robot.arm.move_pose([0.37, 0.15, 0.05, 2.50, 1.55, 2.4585]) #A1 pick pose\n",
    "robot.tool.grasp_with_tool()\n",
    "robot.arm.move_pose([0.37, 0.15, 0.065, 2.50, 1.55, 2.4585]) #A1 drop pose\n",
    "robot.arm.move_pose([0.3, 0.225, 0.06, -2.65, 1.52, -2.6712]) #L1 stack\n",
    "robot.tool.release_with_tool()\n"
   ]
  },
  {
   "cell_type": "code",
   "execution_count": 273,
   "id": "4610de75",
   "metadata": {},
   "outputs": [
    {
     "name": "stdout",
     "output_type": "stream",
     "text": [
      "(0.26, 0.03, 0.15, 1.58, 0.01, 1.576) \n"
     ]
    }
   ],
   "source": [
    "pose_read = robot.arm.get_pose()\n",
    "print(f'{round(pose_read.x,2), round(pose_read.y,2), round(pose_read.z,2), round(pose_read.roll,2), round(pose_read.pitch,2), round(pose_read.yaw,4)} ')"
   ]
  },
  {
   "cell_type": "code",
   "execution_count": 266,
   "id": "87360d5f",
   "metadata": {},
   "outputs": [],
   "source": [
    "robot.arm.move_pose([0.26, 0.03, 0.15, 1.55, 0.2, 1.497])\n"
   ]
  },
  {
   "cell_type": "code",
   "execution_count": 9,
   "id": "9dc767a1",
   "metadata": {},
   "outputs": [],
   "source": [
    "robot.tool.grasp_with_tool()"
   ]
  },
  {
   "cell_type": "code",
   "execution_count": 8,
   "id": "3243ac06",
   "metadata": {},
   "outputs": [],
   "source": [
    "robot.tool.release_with_tool()\n"
   ]
  },
  {
   "cell_type": "code",
   "execution_count": null,
   "id": "80f8c6c2",
   "metadata": {},
   "outputs": [],
   "source": [
    "robot.tool.release_with_tool()\n",
    "robot.arm.move_pose([0.22, 0.22, 0.07, -2.28, 1.48, -2.1716])\n",
    "robot.tool.grasp_with_tool()\n",
    "robot.arm.move_pose([0.3, 0.15, 0.065, -2.85, 1.46, -2.8733])\n",
    "robot.tool.release_with_tool()\n",
    "robot.arm.move_pose([0.3, 0.15, 0.05, -2.85, 1.46, -2.8733])\n",
    "robot.tool.grasp_with_tool()\n",
    "robot.arm.move_pose([0.3, 0.15, 0.065, -2.85, 1.46, -2.8733])\n",
    "robot.arm.move_pose([0.22, 0.22, 0.07, -2.28, 1.48, -2.1716])\n",
    "robot.tool.release_with_tool()\n",
    "\n",
    "\n"
   ]
  },
  {
   "cell_type": "code",
   "execution_count": null,
   "id": "cdbd1d73",
   "metadata": {},
   "outputs": [],
   "source": [
    "\n",
    "robot.arm.move_pose([0.26, 0.03, 0.15, 1.58, 0.01, 1.45])\n"
   ]
  },
  {
   "cell_type": "code",
   "execution_count": null,
   "id": "7eb16957",
   "metadata": {},
   "outputs": [
    {
     "name": "stderr",
     "output_type": "stream",
     "text": [
      "/var/folders/02/s2j6q52d0k5c5x3kf7hlyzcr0000gn/T/ipykernel_24798/3908529190.py:3: DeprecationWarning: This project is officially marked as deprecated and will no longer be maintained or receive updates starting 1st June 2025. We recommend users migrate to PyNiryo: https://pypi.org/project/pyniryo/\n",
      "  from pyniryo2 import NiryoRos, Vision\n"
     ]
    },
    {
     "name": "stdout",
     "output_type": "stream",
     "text": [
      "[SCAN] Looking for card at \n"
     ]
    }
   ],
   "source": [
    "import cv2\n",
    "import pyniryo\n",
    "from pyniryo2 import NiryoRos, Vision\n",
    "import numpy as np\n",
    "\n",
    "CARD_BOX = (270, 190, 190, 190)  # x,y,h,w\n",
    "\n",
    "ros_instance = NiryoRos(\"169.254.200.200\")\n",
    "vision = Vision(ros_instance)\n",
    "\n",
    "print(\"[SCAN] Looking for card at \")\n",
    "last_center = stable_since = detection_time = None\n",
    "while True:\n",
    "    img_compressed = vision.get_img_compressed()\n",
    "    \n",
    "    # Check if the image was successfully captured\n",
    "    if img_compressed is None:\n",
    "        print(\"[ERROR] Could not get compressed image from the robot.\")\n",
    "        continue  # Skip the rest of the loop and try again\n",
    "\n",
    "    img_uncompressed = pyniryo.uncompress_image(img_compressed)\n",
    "    \n",
    "    # Add a check for the uncompressed image as well\n",
    "    if img_uncompressed is None:\n",
    "        print(\"[ERROR] Failed to uncompress image.\")\n",
    "        continue\n",
    "\n",
    "    camera_info = vision.get_camera_intrinsics()\n",
    "    img = pyniryo.undistort_image(img_uncompressed, camera_info.intrinsics, camera_info.distortion)\n",
    "\n",
    "    frame = cv2.resize(img, (640, 480))\n",
    "    cv2.rectangle(frame, (CARD_BOX[0], CARD_BOX[1]), (CARD_BOX[0] + CARD_BOX[2], CARD_BOX[1] + CARD_BOX[3]), (0, 255, 0), 2)\n",
    "    cv2.imshow(\"Adjust ROI\", frame)\n",
    "\n",
    "    key = cv2.waitKey(1)\n",
    "    if key == ord('q'):\n",
    "        break\n",
    "\n",
    "cv2.destroyAllWindows()"
   ]
  }
 ],
 "metadata": {
  "kernelspec": {
   "display_name": "Python 3",
   "language": "python",
   "name": "python3"
  },
  "language_info": {
   "codemirror_mode": {
    "name": "ipython",
    "version": 3
   },
   "file_extension": ".py",
   "mimetype": "text/x-python",
   "name": "python",
   "nbconvert_exporter": "python",
   "pygments_lexer": "ipython3",
   "version": "3.13.2"
  }
 },
 "nbformat": 4,
 "nbformat_minor": 5
}
